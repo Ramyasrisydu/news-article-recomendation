{
 "cells": [
  {
   "cell_type": "markdown",
   "metadata": {},
   "source": [
    "## Preface"
   ]
  },
  {
   "cell_type": "markdown",
   "metadata": {},
   "source": [
    "Due to easy availibilty of enormous items(services) on your favourite online platforms like *e-commerce*, *job portal*, *food delivery*, *music or video streaming*, it is very hard and time consuming to find out the desired item of your choice quickly. These platforms could help you by **recommending** items as per your interest and preference by just analyzing your past interaction or behaviour with the system.  \n",
    "\n",
    "From **Amazon** to **Linkedin**, **Uber eats** to **Spotify**, **Netflix** to **Facebook**, **Recommender systems** are most extensively used to suggest \"Similar items\", \"Relevant jobs\", \"preferred foods\", \"Movies of interest\" etc to their users. \n",
    "\n",
    "**Recommender system** with appropiate item suggestions helps in boosting sales, increasing revenue, retaining customers and also adds competitive advantage. \n",
    "There are basically two kind of **recommendation** methods.\n",
    "1. **Content based recommendation**\n",
    "2. **Collaborative filtering**"
   ]
  },
  {
   "cell_type": "markdown",
   "metadata": {},
   "source": [
    "**Content based recommendation ** is based on similarity among users/items obtained through their **attributes**. It uses the additional information(meta data) about the **users** or **items** i.e. it relies on what kind of **content** is already available. This meta data could be **user's demograpic information** like *age*, *gender*, *job*, *location*, *skillsets* etc. Similarly for **items** it can be *item name*, *specifications*, *category*, *registration date* etc.\n",
    "\n",
    "So the core idea is to recommend items by finding similar items/users to the concerned **item/user** based on their **attributes**. \n",
    "\n",
    "In this kernel, I am going to discuss about **Content based recommendation** using **News category** dataset. The goal is to recommend **news articles** which are similar to the already read article by using attributes like article *headline*, *category*, *author* and *publishing date*.\n",
    "\n",
    "So let's get started without any further delay."
   ]
  },
  {
   "cell_type": "markdown",
   "metadata": {},
   "source": [
    "**Additional NOTE**\n",
    "\n",
    "If you are interested in learning or exploring more about importance of feature selection in machine learning, then refer to my below blog offering.\n",
    "\n",
    "https://www.analyticsvidhya.com/blog/2020/10/a-comprehensive-guide-to-feature-selection-using-wrapper-methods-in-python/"
   ]
  },
  {
   "cell_type": "markdown",
   "metadata": {},
   "source": [
    "## Notebook - Table of Content"
   ]
  },
  {
   "cell_type": "markdown",
   "metadata": {},
   "source": [
    "1. [**Importing necessary Libraries**](# 1.-Importing-necessary-Libraries)   \n",
    "2. [**Loading Data**](#2.-Loading-Data)  \n",
    "3. [**Data Preprocessing**](#3.-Data-Preprocessing)  \n",
    "    3.a [**Fetching only the articles from 2018**](#3.a-Fetching-only-the-articles-from-2018)  \n",
    "    3.b [**Removing all the short headline articles**](#3.b-Removing-all-the-short-headline-articles)  \n",
    "    3.c [**Checking and removing all the duplicates**](#3.c-Checking-and-removing-all-the-duplicates)  \n",
    "    3.d [**Checking for missing values**](#3.d-Checking-for-missing-values)  \n",
    "4. [**Basic Data Exploration**](#4.-Basic-Data-Exploration)  \n",
    "    4.a [**Basic statistics - Number of articles,authors,categories**](#4.a-Basic-statistics---Number-of-articles,authors,categories)  \n",
    "    4.b [**Distribution of articles category-wise**](#4.b-Distribution-of-articles-category-wise)  \n",
    "    4.c [**Number of articles per month**](#4.c-Number-of-articles-per-month)   \n",
    "    4.d [**PDF for length of headlines**](#4.d-PDF-for-length-of-headlines)\n",
    "5. [**Text Preprocessing**](#5.-Text-Preprocessing)  \n",
    "    5.a [**Stopwords removal**](#5.a-Stopwords-removal)  \n",
    "    5.b [**Lemmatization**](#5.b-Lemmatization)  \n",
    "6. [**Headline based similarity on new articles**](#6.-Headline-based-similarity-on-new-articles)  \n",
    "    6.a [**Using Bag of Words method**](#6.a-Using-Bag-of-Words method)  \n",
    "    6.b [**Using TF-IDF method**](#6.b-Using-TF-IDF-method)  \n",
    "    6.c [**Using Word2Vec embedding**](#6.c-Using-Word2Vec-embedding)   \n",
    "    6.d [**Weighted similarity based on headline and category**](#6.d-Weighted-similarity-based-on-headline-and-category)  \n",
    "    6.e [**Weighted similarity based on headline, category and author**](#6.e-Weighted-similarity-based-on-headline,-category-and-author)  \n",
    "    6.f [**Weighted similarity based on headline, category, author and publishing day**](#6.f-Weighted-similarity-based-on-headline,-category,-author-and-publishing-day)  \n",
    " "
   ]
  },
  {
   "cell_type": "markdown",
   "metadata": {},
   "source": [
    "## 1. Importing necessary Libraries"
   ]
  },
  {
   "cell_type": "code",
   "execution_count": 1,
   "metadata": {
    "execution": {
     "iopub.execute_input": "2022-10-11T11:04:03.355664Z",
     "iopub.status.busy": "2022-10-11T11:04:03.355241Z",
     "iopub.status.idle": "2022-10-11T11:04:05.531203Z",
     "shell.execute_reply": "2022-10-11T11:04:05.529706Z",
     "shell.execute_reply.started": "2022-10-11T11:04:03.355601Z"
    }
   },
   "outputs": [],
   "source": [
    "import numpy as np\n",
    "import pandas as pd\n",
    "\n",
    "import os\n",
    "import math\n",
    "import time\n",
    "\n",
    "import matplotlib.pyplot as plt\n",
    "import seaborn as sns\n",
    "import plotly.figure_factory as ff\n",
    "import plotly.graph_objects as go\n",
    "import plotly.express as px\n",
    "\n",
    "# Below libraries are for text processing using NLTK\n",
    "from nltk.corpus import stopwords\n",
    "from nltk.tokenize import word_tokenize\n",
    "from nltk.stem import WordNetLemmatizer\n",
    "\n",
    "# Below libraries are for feature representation using sklearn\n",
    "from sklearn.feature_extraction.text import CountVectorizer\n",
    "from sklearn.feature_extraction.text import TfidfVectorizer\n",
    "\n",
    "# Below libraries are for similarity matrices using sklearn\n",
    "from sklearn.metrics.pairwise import cosine_similarity  \n",
    "from sklearn.metrics import pairwise_distances"
   ]
  },
  {
   "cell_type": "markdown",
   "metadata": {},
   "source": [
    "## 2. Loading Data"
   ]
  },
  {
   "cell_type": "code",
   "execution_count": 3,
   "metadata": {
    "execution": {
     "iopub.execute_input": "2022-10-11T11:04:05.534205Z",
     "iopub.status.busy": "2022-10-11T11:04:05.533798Z",
     "iopub.status.idle": "2022-10-11T11:04:10.855675Z",
     "shell.execute_reply": "2022-10-11T11:04:10.854449Z",
     "shell.execute_reply.started": "2022-10-11T11:04:05.534132Z"
    }
   },
   "outputs": [],
   "source": [
    "news_articles = pd.read_json(\"C:/Users/RAMYA SRI/Documents/datascience_projects/Datasets/News_Category_Dataset_v2.json\", lines = True)"
   ]
  },
  {
   "cell_type": "code",
   "execution_count": 4,
   "metadata": {
    "execution": {
     "iopub.execute_input": "2022-10-11T11:04:10.858136Z",
     "iopub.status.busy": "2022-10-11T11:04:10.857696Z",
     "iopub.status.idle": "2022-10-11T11:04:10.97925Z",
     "shell.execute_reply": "2022-10-11T11:04:10.977846Z",
     "shell.execute_reply.started": "2022-10-11T11:04:10.858071Z"
    }
   },
   "outputs": [
    {
     "name": "stdout",
     "output_type": "stream",
     "text": [
      "<class 'pandas.core.frame.DataFrame'>\n",
      "RangeIndex: 200853 entries, 0 to 200852\n",
      "Data columns (total 6 columns):\n",
      " #   Column             Non-Null Count   Dtype         \n",
      "---  ------             --------------   -----         \n",
      " 0   category           200853 non-null  object        \n",
      " 1   headline           200853 non-null  object        \n",
      " 2   authors            200853 non-null  object        \n",
      " 3   link               200853 non-null  object        \n",
      " 4   short_description  200853 non-null  object        \n",
      " 5   date               200853 non-null  datetime64[ns]\n",
      "dtypes: datetime64[ns](1), object(5)\n",
      "memory usage: 9.2+ MB\n"
     ]
    }
   ],
   "source": [
    "news_articles.info()"
   ]
  },
  {
   "cell_type": "markdown",
   "metadata": {},
   "source": [
    "The dataset contains about two million records of six different features. "
   ]
  },
  {
   "cell_type": "code",
   "execution_count": null,
   "metadata": {
    "execution": {
     "iopub.execute_input": "2022-10-11T11:04:10.981406Z",
     "iopub.status.busy": "2022-10-11T11:04:10.981088Z",
     "iopub.status.idle": "2022-10-11T11:04:11.006624Z",
     "shell.execute_reply": "2022-10-11T11:04:11.004922Z",
     "shell.execute_reply.started": "2022-10-11T11:04:10.981353Z"
    }
   },
   "outputs": [],
   "source": [
    "news_articles.head()"
   ]
  },
  {
   "cell_type": "markdown",
   "metadata": {},
   "source": [
    "## 3. Data Preprocessing"
   ]
  },
  {
   "cell_type": "markdown",
   "metadata": {},
   "source": [
    "### 3.a Fetching only the articles from 2018  "
   ]
  },
  {
   "cell_type": "markdown",
   "metadata": {},
   "source": [
    "Since the dataset size is quite large so processing through entire dataset may consume too much time. To refrain from this, we are only considering the latest articles from the year 2018. "
   ]
  },
  {
   "cell_type": "code",
   "execution_count": null,
   "metadata": {
    "execution": {
     "iopub.execute_input": "2022-10-11T11:04:11.009087Z",
     "iopub.status.busy": "2022-10-11T11:04:11.008669Z",
     "iopub.status.idle": "2022-10-11T11:04:11.023613Z",
     "shell.execute_reply": "2022-10-11T11:04:11.022271Z",
     "shell.execute_reply.started": "2022-10-11T11:04:11.009015Z"
    }
   },
   "outputs": [],
   "source": [
    "news_articles = news_articles[news_articles['date'] >= pd.Timestamp(2018,1,1)]"
   ]
  },
  {
   "cell_type": "code",
   "execution_count": null,
   "metadata": {
    "execution": {
     "iopub.execute_input": "2022-10-11T11:04:11.030706Z",
     "iopub.status.busy": "2022-10-11T11:04:11.029568Z",
     "iopub.status.idle": "2022-10-11T11:04:11.039428Z",
     "shell.execute_reply": "2022-10-11T11:04:11.038143Z",
     "shell.execute_reply.started": "2022-10-11T11:04:11.030609Z"
    }
   },
   "outputs": [],
   "source": [
    "news_articles.shape"
   ]
  },
  {
   "cell_type": "markdown",
   "metadata": {},
   "source": [
    "Now, the number of news articles comes down to 8583."
   ]
  },
  {
   "cell_type": "markdown",
   "metadata": {},
   "source": [
    "### 3.b Removing all the short headline articles "
   ]
  },
  {
   "cell_type": "markdown",
   "metadata": {},
   "source": [
    "After stop words removal from headline, the articles with very short headline may become blank headline articles. So let's remove all the articles with less words(<5) in the headline.   "
   ]
  },
  {
   "cell_type": "code",
   "execution_count": null,
   "metadata": {
    "execution": {
     "iopub.execute_input": "2022-10-11T11:04:11.043676Z",
     "iopub.status.busy": "2022-10-11T11:04:11.0433Z",
     "iopub.status.idle": "2022-10-11T11:04:11.069764Z",
     "shell.execute_reply": "2022-10-11T11:04:11.068653Z",
     "shell.execute_reply.started": "2022-10-11T11:04:11.043613Z"
    }
   },
   "outputs": [],
   "source": [
    "news_articles = news_articles[news_articles['headline'].apply(lambda x: len(x.split())>5)]\n",
    "print(\"Total number of articles after removal of headlines with short title:\", news_articles.shape[0])"
   ]
  },
  {
   "cell_type": "markdown",
   "metadata": {},
   "source": [
    "### 3.c Checking and removing all the duplicates"
   ]
  },
  {
   "cell_type": "markdown",
   "metadata": {},
   "source": [
    "Since some articles are exactly same in headlines, so let's remove all such articles having duplicate headline appearance."
   ]
  },
  {
   "cell_type": "code",
   "execution_count": null,
   "metadata": {
    "execution": {
     "iopub.execute_input": "2022-10-11T11:04:11.072608Z",
     "iopub.status.busy": "2022-10-11T11:04:11.071827Z",
     "iopub.status.idle": "2022-10-11T11:04:11.104804Z",
     "shell.execute_reply": "2022-10-11T11:04:11.103713Z",
     "shell.execute_reply.started": "2022-10-11T11:04:11.072536Z"
    }
   },
   "outputs": [],
   "source": [
    "news_articles.sort_values('headline',inplace=True, ascending=False)\n",
    "duplicated_articles_series = news_articles.duplicated('headline', keep = False)\n",
    "news_articles = news_articles[~duplicated_articles_series]\n",
    "print(\"Total number of articles after removing duplicates:\", news_articles.shape[0])"
   ]
  },
  {
   "cell_type": "markdown",
   "metadata": {},
   "source": [
    "### 3.d Checking for missing values"
   ]
  },
  {
   "cell_type": "code",
   "execution_count": null,
   "metadata": {
    "execution": {
     "iopub.execute_input": "2022-10-11T11:04:11.106487Z",
     "iopub.status.busy": "2022-10-11T11:04:11.106203Z",
     "iopub.status.idle": "2022-10-11T11:04:11.123037Z",
     "shell.execute_reply": "2022-10-11T11:04:11.121489Z",
     "shell.execute_reply.started": "2022-10-11T11:04:11.106437Z"
    }
   },
   "outputs": [],
   "source": [
    "news_articles.isna().sum()"
   ]
  },
  {
   "cell_type": "markdown",
   "metadata": {},
   "source": [
    "## 4. Basic Data Exploration "
   ]
  },
  {
   "cell_type": "markdown",
   "metadata": {},
   "source": [
    "### 4.a Basic statistics - Number of articles,authors,categories"
   ]
  },
  {
   "cell_type": "code",
   "execution_count": null,
   "metadata": {
    "execution": {
     "iopub.execute_input": "2022-10-11T11:04:11.125286Z",
     "iopub.status.busy": "2022-10-11T11:04:11.124873Z",
     "iopub.status.idle": "2022-10-11T11:04:11.147411Z",
     "shell.execute_reply": "2022-10-11T11:04:11.146257Z",
     "shell.execute_reply.started": "2022-10-11T11:04:11.12521Z"
    }
   },
   "outputs": [],
   "source": [
    "print(\"Total number of articles : \", news_articles.shape[0])\n",
    "print(\"Total number of authors : \", news_articles[\"authors\"].nunique())\n",
    "print(\"Total number of unqiue categories : \", news_articles[\"category\"].nunique())"
   ]
  },
  {
   "cell_type": "markdown",
   "metadata": {},
   "source": [
    "### 4.b Distribution of articles category-wise"
   ]
  },
  {
   "cell_type": "code",
   "execution_count": null,
   "metadata": {
    "execution": {
     "iopub.execute_input": "2022-10-11T11:04:11.14926Z",
     "iopub.status.busy": "2022-10-11T11:04:11.148972Z",
     "iopub.status.idle": "2022-10-11T11:04:11.972315Z",
     "shell.execute_reply": "2022-10-11T11:04:11.971438Z",
     "shell.execute_reply.started": "2022-10-11T11:04:11.149218Z"
    }
   },
   "outputs": [],
   "source": [
    "fig = go.Figure([go.Bar(x=news_articles[\"category\"].value_counts().index, y=news_articles[\"category\"].value_counts().values)])\n",
    "fig['layout'].update(title={\"text\" : 'Distribution of articles category-wise','y':0.9,'x':0.5,'xanchor': 'center','yanchor': 'top'}, xaxis_title=\"Category name\",yaxis_title=\"Number of articles\")\n",
    "fig.update_layout(width=800,height=700)\n",
    "fig"
   ]
  },
  {
   "cell_type": "markdown",
   "metadata": {},
   "source": [
    "From the bar chart, we can observe that **politics** category has **highest** number of articles then **entertainment** and so on.  "
   ]
  },
  {
   "cell_type": "markdown",
   "metadata": {},
   "source": [
    "### 4.c Number of articles per month"
   ]
  },
  {
   "cell_type": "markdown",
   "metadata": {},
   "source": [
    "Let's first group the data on monthly basis using **resample()** function. "
   ]
  },
  {
   "cell_type": "code",
   "execution_count": null,
   "metadata": {
    "execution": {
     "iopub.execute_input": "2022-10-11T11:04:11.974377Z",
     "iopub.status.busy": "2022-10-11T11:04:11.973807Z",
     "iopub.status.idle": "2022-10-11T11:04:12.005369Z",
     "shell.execute_reply": "2022-10-11T11:04:12.003578Z",
     "shell.execute_reply.started": "2022-10-11T11:04:11.974322Z"
    }
   },
   "outputs": [],
   "source": [
    "news_articles_per_month = news_articles.resample('m',on = 'date')['headline'].count()\n",
    "news_articles_per_month"
   ]
  },
  {
   "cell_type": "code",
   "execution_count": null,
   "metadata": {
    "execution": {
     "iopub.execute_input": "2022-10-11T11:04:12.008674Z",
     "iopub.status.busy": "2022-10-11T11:04:12.008042Z",
     "iopub.status.idle": "2022-10-11T11:04:12.204886Z",
     "shell.execute_reply": "2022-10-11T11:04:12.203611Z",
     "shell.execute_reply.started": "2022-10-11T11:04:12.008534Z"
    }
   },
   "outputs": [],
   "source": [
    "fig = go.Figure([go.Bar(x=news_articles_per_month.index.strftime(\"%b\"), y=news_articles_per_month)])\n",
    "fig['layout'].update(title={\"text\" : 'Distribution of articles month-wise','y':0.9,'x':0.5,'xanchor': 'center','yanchor': 'top'}, xaxis_title=\"Month\",yaxis_title=\"Number of articles\")\n",
    "fig.update_layout(width=500,height=500)\n",
    "fig"
   ]
  },
  {
   "cell_type": "markdown",
   "metadata": {},
   "source": [
    "From the bar chart, we can observe that **January** month has **highest** number of articles then **March** and so on.  "
   ]
  },
  {
   "cell_type": "markdown",
   "metadata": {},
   "source": [
    "### 4.d PDF for the length of headlines "
   ]
  },
  {
   "cell_type": "code",
   "execution_count": null,
   "metadata": {
    "execution": {
     "iopub.execute_input": "2022-10-11T11:04:12.206958Z",
     "iopub.status.busy": "2022-10-11T11:04:12.206577Z",
     "iopub.status.idle": "2022-10-11T11:04:12.539482Z",
     "shell.execute_reply": "2022-10-11T11:04:12.537903Z",
     "shell.execute_reply.started": "2022-10-11T11:04:12.206901Z"
    }
   },
   "outputs": [],
   "source": [
    "fig = ff.create_distplot([news_articles['headline'].str.len()], [\"ht\"],show_hist=False,show_rug=False)\n",
    "fig['layout'].update(title={'text':'PDF','y':0.9,'x':0.5,'xanchor': 'center','yanchor': 'top'}, xaxis_title=\"Length of a headline\",yaxis_title=\"probability\")\n",
    "fig.update_layout(showlegend = False,width=500,height=500)\n",
    "fig"
   ]
  },
  {
   "cell_type": "markdown",
   "metadata": {},
   "source": [
    "The probability distribution function of headline length is almost similar to a **Guassian distribution**, where most of the headlines are 58 to 80 words long in length. "
   ]
  },
  {
   "cell_type": "markdown",
   "metadata": {},
   "source": [
    "By Data processing in Step 2, we get a subset of original dataset which has different index labels so let's make the indices uniform ranging from 0 to total number of articles. "
   ]
  },
  {
   "cell_type": "code",
   "execution_count": null,
   "metadata": {
    "execution": {
     "iopub.execute_input": "2022-10-11T11:04:12.542402Z",
     "iopub.status.busy": "2022-10-11T11:04:12.541998Z",
     "iopub.status.idle": "2022-10-11T11:04:12.550675Z",
     "shell.execute_reply": "2022-10-11T11:04:12.548732Z",
     "shell.execute_reply.started": "2022-10-11T11:04:12.542335Z"
    }
   },
   "outputs": [],
   "source": [
    "news_articles.index = range(news_articles.shape[0])"
   ]
  },
  {
   "cell_type": "code",
   "execution_count": null,
   "metadata": {
    "execution": {
     "iopub.execute_input": "2022-10-11T11:04:12.553312Z",
     "iopub.status.busy": "2022-10-11T11:04:12.552842Z",
     "iopub.status.idle": "2022-10-11T11:04:12.668783Z",
     "shell.execute_reply": "2022-10-11T11:04:12.667628Z",
     "shell.execute_reply.started": "2022-10-11T11:04:12.553244Z"
    }
   },
   "outputs": [],
   "source": [
    "# Adding a new column containing both day of the week and month, it will be required later while recommending based on day of the week and month\n",
    "news_articles[\"day and month\"] = news_articles[\"date\"].dt.strftime(\"%a\") + \"_\" + news_articles[\"date\"].dt.strftime(\"%b\")"
   ]
  },
  {
   "cell_type": "markdown",
   "metadata": {},
   "source": [
    "Since after text preprocessing the original headlines will be modified and it doesn't make sense to recommend articles by displaying modified headlines so let's copy the dataset into some other dataset and perform text preprocessing on the later."
   ]
  },
  {
   "cell_type": "code",
   "execution_count": null,
   "metadata": {
    "execution": {
     "iopub.execute_input": "2022-10-11T11:04:12.671244Z",
     "iopub.status.busy": "2022-10-11T11:04:12.670873Z",
     "iopub.status.idle": "2022-10-11T11:04:12.693767Z",
     "shell.execute_reply": "2022-10-11T11:04:12.691896Z",
     "shell.execute_reply.started": "2022-10-11T11:04:12.671176Z"
    }
   },
   "outputs": [],
   "source": [
    "news_articles_temp = news_articles.copy()"
   ]
  },
  {
   "cell_type": "markdown",
   "metadata": {},
   "source": [
    "## 5. Text Preprocessing"
   ]
  },
  {
   "cell_type": "markdown",
   "metadata": {},
   "source": [
    "### 5.a Stopwords removal"
   ]
  },
  {
   "cell_type": "markdown",
   "metadata": {},
   "source": [
    "Stop words are not much helpful in analyis and also their inclusion consumes much time during processing so let's remove these. "
   ]
  },
  {
   "cell_type": "code",
   "execution_count": null,
   "metadata": {
    "execution": {
     "iopub.execute_input": "2022-10-11T11:04:12.696473Z",
     "iopub.status.busy": "2022-10-11T11:04:12.696026Z",
     "iopub.status.idle": "2022-10-11T11:04:12.709675Z",
     "shell.execute_reply": "2022-10-11T11:04:12.708325Z",
     "shell.execute_reply.started": "2022-10-11T11:04:12.696385Z"
    }
   },
   "outputs": [],
   "source": [
    "stop_words = set(stopwords.words('english'))"
   ]
  },
  {
   "cell_type": "code",
   "execution_count": null,
   "metadata": {
    "execution": {
     "iopub.execute_input": "2022-10-11T11:04:12.712187Z",
     "iopub.status.busy": "2022-10-11T11:04:12.711804Z",
     "iopub.status.idle": "2022-10-11T11:04:13.189068Z",
     "shell.execute_reply": "2022-10-11T11:04:13.18787Z",
     "shell.execute_reply.started": "2022-10-11T11:04:12.712126Z"
    }
   },
   "outputs": [],
   "source": [
    "for i in range(len(news_articles_temp[\"headline\"])):\n",
    "    string = \"\"\n",
    "    for word in news_articles_temp[\"headline\"][i].split():\n",
    "        word = (\"\".join(e for e in word if e.isalnum()))\n",
    "        word = word.lower()\n",
    "        if not word in stop_words:\n",
    "          string += word + \" \"  \n",
    "    if(i%1000==0):\n",
    "      print(i)           # To track number of records processed\n",
    "    news_articles_temp.at[i,\"headline\"] = string.strip()"
   ]
  },
  {
   "cell_type": "markdown",
   "metadata": {},
   "source": [
    "### 5.b Lemmatization"
   ]
  },
  {
   "cell_type": "markdown",
   "metadata": {},
   "source": [
    "Let's find the base form(lemma) of words to consider different inflections of a word same as lemma."
   ]
  },
  {
   "cell_type": "code",
   "execution_count": null,
   "metadata": {
    "execution": {
     "iopub.execute_input": "2022-10-11T11:04:13.191306Z",
     "iopub.status.busy": "2022-10-11T11:04:13.190931Z",
     "iopub.status.idle": "2022-10-11T11:04:13.197062Z",
     "shell.execute_reply": "2022-10-11T11:04:13.195755Z",
     "shell.execute_reply.started": "2022-10-11T11:04:13.191241Z"
    }
   },
   "outputs": [],
   "source": [
    "lemmatizer = WordNetLemmatizer()"
   ]
  },
  {
   "cell_type": "code",
   "execution_count": null,
   "metadata": {
    "execution": {
     "iopub.execute_input": "2022-10-11T11:04:13.199507Z",
     "iopub.status.busy": "2022-10-11T11:04:13.199099Z",
     "iopub.status.idle": "2022-10-11T11:04:17.899663Z",
     "shell.execute_reply": "2022-10-11T11:04:17.898489Z",
     "shell.execute_reply.started": "2022-10-11T11:04:13.199435Z"
    }
   },
   "outputs": [],
   "source": [
    "for i in range(len(news_articles_temp[\"headline\"])):\n",
    "    string = \"\"\n",
    "    for w in word_tokenize(news_articles_temp[\"headline\"][i]):\n",
    "        string += lemmatizer.lemmatize(w,pos = \"v\") + \" \"\n",
    "    news_articles_temp.at[i, \"headline\"] = string.strip()\n",
    "    if(i%1000==0):\n",
    "        print(i)           # To track number of records processed"
   ]
  },
  {
   "cell_type": "markdown",
   "metadata": {},
   "source": [
    "## 6. Headline based similarity on new articles"
   ]
  },
  {
   "cell_type": "markdown",
   "metadata": {},
   "source": [
    "Generally, we assess **similarity** based on **distance**. If the **distance** is minimum then high **similarity** and if it is maximum then low **similarity**.\n",
    "To calculate the **distance**, we need to represent the headline as a **d-dimensional** vector. Then we can find out the **similarity** based on the **distance** between vectors.\n",
    "\n",
    "There are multiple methods to represent a **text** as **d-dimensional** vector like **Bag of words**, **TF-IDF method**, **Word2Vec embedding** etc. Each method has its own advantages and disadvantages. \n",
    "\n",
    "Let's see the feature representation of headline through all the methods one by one."
   ]
  },
  {
   "cell_type": "markdown",
   "metadata": {},
   "source": [
    "### 6.a Using Bag of Words method"
   ]
  },
  {
   "cell_type": "markdown",
   "metadata": {},
   "source": [
    "A **Bag of Words(BoW)** method represents the occurence of words within a **document**. Here, each headline can be considered as a **document** and set of all headlines form a **corpus**.\n",
    "\n",
    "Using **BoW** approach, each **document** is represented by a **d-dimensional** vector, where **d** is total number of **unique words** in the corpus. The set of such unique words forms the **Vocabulary**."
   ]
  },
  {
   "cell_type": "code",
   "execution_count": null,
   "metadata": {
    "execution": {
     "iopub.execute_input": "2022-10-11T11:04:17.902304Z",
     "iopub.status.busy": "2022-10-11T11:04:17.901854Z",
     "iopub.status.idle": "2022-10-11T11:04:18.044682Z",
     "shell.execute_reply": "2022-10-11T11:04:18.043698Z",
     "shell.execute_reply.started": "2022-10-11T11:04:17.902224Z"
    }
   },
   "outputs": [],
   "source": [
    "headline_vectorizer = CountVectorizer()\n",
    "headline_features   = headline_vectorizer.fit_transform(news_articles_temp['headline'])"
   ]
  },
  {
   "cell_type": "code",
   "execution_count": null,
   "metadata": {
    "execution": {
     "iopub.execute_input": "2022-10-11T11:04:18.046733Z",
     "iopub.status.busy": "2022-10-11T11:04:18.046419Z",
     "iopub.status.idle": "2022-10-11T11:04:18.05363Z",
     "shell.execute_reply": "2022-10-11T11:04:18.052602Z",
     "shell.execute_reply.started": "2022-10-11T11:04:18.046681Z"
    }
   },
   "outputs": [],
   "source": [
    "headline_features.get_shape()"
   ]
  },
  {
   "cell_type": "markdown",
   "metadata": {},
   "source": [
    "The output **BoW matrix**(headline_features) is a sparse matrix."
   ]
  },
  {
   "cell_type": "code",
   "execution_count": null,
   "metadata": {
    "execution": {
     "iopub.execute_input": "2022-10-11T11:04:18.05616Z",
     "iopub.status.busy": "2022-10-11T11:04:18.055792Z",
     "iopub.status.idle": "2022-10-11T11:04:18.066335Z",
     "shell.execute_reply": "2022-10-11T11:04:18.064723Z",
     "shell.execute_reply.started": "2022-10-11T11:04:18.056089Z"
    }
   },
   "outputs": [],
   "source": [
    "pd.set_option('display.max_colwidth', -1)  # To display a very long headline completely"
   ]
  },
  {
   "cell_type": "code",
   "execution_count": null,
   "metadata": {
    "execution": {
     "iopub.execute_input": "2022-10-11T11:04:18.068408Z",
     "iopub.status.busy": "2022-10-11T11:04:18.068041Z",
     "iopub.status.idle": "2022-10-11T11:04:18.101326Z",
     "shell.execute_reply": "2022-10-11T11:04:18.100463Z",
     "shell.execute_reply.started": "2022-10-11T11:04:18.068335Z"
    }
   },
   "outputs": [],
   "source": [
    "def bag_of_words_based_model(row_index, num_similar_items):\n",
    "    couple_dist = pairwise_distances(headline_features,headline_features[row_index])\n",
    "    indices = np.argsort(couple_dist.ravel())[0:num_similar_items]\n",
    "    df = pd.DataFrame({'publish_date': news_articles['date'][indices].values,\n",
    "               'headline':news_articles['headline'][indices].values,\n",
    "                'Euclidean similarity with the queried article': couple_dist[indices].ravel()})\n",
    "    print(\"=\"*30,\"Queried article details\",\"=\"*30)\n",
    "    print('headline : ',news_articles['headline'][indices[0]])\n",
    "    print(\"\\n\",\"=\"*25,\"Recommended articles : \",\"=\"*23)\n",
    "    #return df.iloc[1:,1]\n",
    "    return df.iloc[1:,]\n",
    "\n",
    "bag_of_words_based_model(133, 11) # Change the row index for any other queried article"
   ]
  },
  {
   "cell_type": "markdown",
   "metadata": {},
   "source": [
    "Above function recommends **10 similar** articles to the **queried**(read) article based on the headline. It accepts two arguments - index of already read artile and the total number of articles to be recommended.\n",
    "\n",
    "Based on the **Euclidean distance** it finds out 10 nearest neighbors and recommends. \n",
    "\n",
    "**Disadvantages**\n",
    "1. It gives very low **importance** to less frequently observed words in the corpus. Few words from the queried article like \"employer\", \"flip\", \"fire\" appear less frequently in the entire corpus so **BoW** method does not recommend any article whose headline contains these words. Since **trump** is commonly observed word in the corpus so it is recommending the articles with headline containing \"trump\".   \n",
    "2. **BoW** method doesn't preserve the order of words.\n",
    "\n",
    "To overcome the first disadvantage we use **TF-IDF** method for feature representation. \n"
   ]
  },
  {
   "cell_type": "markdown",
   "metadata": {},
   "source": [
    "### 6.b Using TF-IDF method"
   ]
  },
  {
   "cell_type": "markdown",
   "metadata": {},
   "source": [
    "**TF-IDF** method is a weighted measure which gives more importance to less frequent words in a corpus. It assigns a weight to each term(word) in a document based on **Term frequency(TF)** and **inverse document frequency(IDF)**.\n",
    "\n",
    "**TF(i,j)** = (# times word i appears in document j) / (# words in document j)\n",
    "\n",
    "**IDF(i,D)** = log_e(#documents in the corpus D) / (#documents containing word i)\n",
    "\n",
    "weight(i,j) = **TF(i,j)** x **IDF(i,D)**\n",
    "\n",
    "So if a word occurs more number of times in a document but less number of times in all other documents then its **TF-IDF** value will be high.\n"
   ]
  },
  {
   "cell_type": "code",
   "execution_count": null,
   "metadata": {
    "execution": {
     "iopub.execute_input": "2022-10-11T11:04:18.103061Z",
     "iopub.status.busy": "2022-10-11T11:04:18.10255Z",
     "iopub.status.idle": "2022-10-11T11:04:18.244956Z",
     "shell.execute_reply": "2022-10-11T11:04:18.243794Z",
     "shell.execute_reply.started": "2022-10-11T11:04:18.103007Z"
    }
   },
   "outputs": [],
   "source": [
    "tfidf_headline_vectorizer = TfidfVectorizer(min_df = 0)\n",
    "tfidf_headline_features = tfidf_headline_vectorizer.fit_transform(news_articles_temp['headline'])"
   ]
  },
  {
   "cell_type": "code",
   "execution_count": null,
   "metadata": {
    "execution": {
     "iopub.execute_input": "2022-10-11T11:04:18.247643Z",
     "iopub.status.busy": "2022-10-11T11:04:18.246865Z",
     "iopub.status.idle": "2022-10-11T11:04:18.277066Z",
     "shell.execute_reply": "2022-10-11T11:04:18.275681Z",
     "shell.execute_reply.started": "2022-10-11T11:04:18.24756Z"
    }
   },
   "outputs": [],
   "source": [
    "def tfidf_based_model(row_index, num_similar_items):\n",
    "    couple_dist = pairwise_distances(tfidf_headline_features,tfidf_headline_features[row_index])\n",
    "    indices = np.argsort(couple_dist.ravel())[0:num_similar_items]\n",
    "    df = pd.DataFrame({'publish_date': news_articles['date'][indices].values,\n",
    "               'headline':news_articles['headline'][indices].values,\n",
    "                'Euclidean similarity with the queried article': couple_dist[indices].ravel()})\n",
    "    print(\"=\"*30,\"Queried article details\",\"=\"*30)\n",
    "    print('headline : ',news_articles['headline'][indices[0]])\n",
    "    print(\"\\n\",\"=\"*25,\"Recommended articles : \",\"=\"*23)\n",
    "    \n",
    "    #return df.iloc[1:,1]\n",
    "    return df.iloc[1:,]\n",
    "tfidf_based_model(133, 11)"
   ]
  },
  {
   "cell_type": "markdown",
   "metadata": {},
   "source": [
    "Compared to **BoW** method, here **TF-IDF** method recommends the articles with headline containing words like \"employer\", \"fire\", \"flip\" in top 5 recommendations and these words occur less frequently in the corpus.   "
   ]
  },
  {
   "cell_type": "markdown",
   "metadata": {},
   "source": [
    "**Disadvantages :- **\n",
    "\n",
    "**Bow** and **TF-IDF** method do not capture **semantic** and **syntactic** similarity of a given word with other words but this can be captured using **Word embeddings**.\n",
    "\n",
    "For example: there is a good association between words like \"trump\" and \"white house\", \"office and employee\", \"tiger\" and \"leopard\", \"USA\" and \"Washington D.C\" etc. Such kind of **semantic** similarity can be captured using **word embedding** techniques.\n",
    "**Word embedding** techniques like **Word2Vec**, **GloVe** and **fastText** leverage semantic similarity between words. "
   ]
  },
  {
   "cell_type": "markdown",
   "metadata": {},
   "source": [
    "### 6.c Using Word2Vec embedding"
   ]
  },
  {
   "cell_type": "markdown",
   "metadata": {},
   "source": [
    "**Word2Vec** is one of the techniques for **semantic** similarity which was invented by **Google** in 2013. For a given corpus, during training it observes the patterns and respresents each word by a **d-dimensional** vector. To get better results we need fairly large corpus.\n",
    "\n",
    "Since our corpus size is small so let's use Google's pretrained model on **google news** articles. This standard model contains vector representation for billions of words obtained by training on millions of new articles. Here, each word is represented by a **300** dimensional dense vector. \n",
    "\n",
    "\n"
   ]
  },
  {
   "cell_type": "code",
   "execution_count": null,
   "metadata": {
    "execution": {
     "iopub.execute_input": "2022-10-11T11:04:18.279255Z",
     "iopub.status.busy": "2022-10-11T11:04:18.27894Z",
     "iopub.status.idle": "2022-10-11T11:04:18.375559Z",
     "shell.execute_reply": "2022-10-11T11:04:18.374033Z",
     "shell.execute_reply.started": "2022-10-11T11:04:18.2792Z"
    }
   },
   "outputs": [],
   "source": [
    "from gensim.models import Word2Vec\n",
    "from gensim.models import KeyedVectors\n",
    "import pickle"
   ]
  },
  {
   "cell_type": "markdown",
   "metadata": {},
   "source": [
    "Since this **pre-trained Word2Vec** model is **1.5 GB** in compressed form. So it needs a high end RAM to load it in the memory after unzipping.\n",
    "\n",
    "Here, we are loading this pre-build model from a **pickle** file which contains this model in advance."
   ]
  },
  {
   "cell_type": "code",
   "execution_count": null,
   "metadata": {
    "execution": {
     "iopub.execute_input": "2022-10-11T11:04:18.37736Z",
     "iopub.status.busy": "2022-10-11T11:04:18.377059Z",
     "iopub.status.idle": "2022-10-11T11:04:18.985083Z",
     "shell.execute_reply": "2022-10-11T11:04:18.98335Z",
     "shell.execute_reply.started": "2022-10-11T11:04:18.37731Z"
    }
   },
   "outputs": [],
   "source": [
    "with open('/kaggle/input/googlew2v/word2vec_model', 'rb') as file:\n",
    "    loaded_model = pickle.load(file)"
   ]
  },
  {
   "cell_type": "markdown",
   "metadata": {},
   "source": [
    "Since the model gives vector representation for each **word** but we calculate the distance between **headlines** so we need to obtain vector representation for each **headline**. One way to obtain this is by first adding vector representation of all the words available in the **headline** and then calculating the average. It is also known as **average Word2Vec** model.   \n",
    "\n",
    "Below code cell performs the same. "
   ]
  },
  {
   "cell_type": "code",
   "execution_count": null,
   "metadata": {
    "execution": {
     "iopub.execute_input": "2022-10-11T11:04:18.987498Z",
     "iopub.status.busy": "2022-10-11T11:04:18.987075Z",
     "iopub.status.idle": "2022-10-11T11:04:19.000439Z",
     "shell.execute_reply": "2022-10-11T11:04:18.998472Z",
     "shell.execute_reply.started": "2022-10-11T11:04:18.987422Z"
    }
   },
   "outputs": [],
   "source": [
    "loaded_model['porter']"
   ]
  },
  {
   "cell_type": "code",
   "execution_count": null,
   "metadata": {
    "execution": {
     "iopub.execute_input": "2022-10-11T11:04:19.004163Z",
     "iopub.status.busy": "2022-10-11T11:04:19.003157Z",
     "iopub.status.idle": "2022-10-11T11:04:19.219447Z",
     "shell.execute_reply": "2022-10-11T11:04:19.218181Z",
     "shell.execute_reply.started": "2022-10-11T11:04:19.004086Z"
    }
   },
   "outputs": [],
   "source": [
    "vocabulary = loaded_model.keys()\n",
    "w2v_headline = []\n",
    "for i in news_articles_temp['headline']:\n",
    "    w2Vec_word = np.zeros(300, dtype=\"float32\")\n",
    "    for word in i.split():\n",
    "        if word in vocabulary:\n",
    "            w2Vec_word = np.add(w2Vec_word, loaded_model[word])\n",
    "    w2Vec_word = np.divide(w2Vec_word, len(i.split()))\n",
    "    w2v_headline.append(w2Vec_word)\n",
    "w2v_headline = np.array(w2v_headline)"
   ]
  },
  {
   "cell_type": "code",
   "execution_count": null,
   "metadata": {
    "execution": {
     "iopub.execute_input": "2022-10-11T11:04:19.221512Z",
     "iopub.status.busy": "2022-10-11T11:04:19.221089Z",
     "iopub.status.idle": "2022-10-11T11:04:19.265822Z",
     "shell.execute_reply": "2022-10-11T11:04:19.264295Z",
     "shell.execute_reply.started": "2022-10-11T11:04:19.221436Z"
    }
   },
   "outputs": [],
   "source": [
    "def avg_w2v_based_model(row_index, num_similar_items):\n",
    "    couple_dist = pairwise_distances(w2v_headline, w2v_headline[row_index].reshape(1,-1))\n",
    "    indices = np.argsort(couple_dist.ravel())[0:num_similar_items]\n",
    "    df = pd.DataFrame({'publish_date': news_articles['date'][indices].values,\n",
    "               'headline':news_articles['headline'][indices].values,\n",
    "                'Euclidean similarity with the queried article': couple_dist[indices].ravel()})\n",
    "    print(\"=\"*30,\"Queried article details\",\"=\"*30)\n",
    "    print('headline : ',news_articles['headline'][indices[0]])\n",
    "    print(\"\\n\",\"=\"*25,\"Recommended articles : \",\"=\"*23)\n",
    "    #return df.iloc[1:,1]\n",
    "    return df.iloc[1:,]\n",
    "\n",
    "avg_w2v_based_model(133, 11)"
   ]
  },
  {
   "cell_type": "markdown",
   "metadata": {},
   "source": [
    "Here, **Word2Vec** based representation recommends the headlines containing the word **white house** which is associated with the word **trump** in the queried article. Similarly, it recommends the headlines with words like \"offical\", \"insist\" which have semantic similarity to the words \"employer\", \"sue\" in the queried headline."
   ]
  },
  {
   "cell_type": "markdown",
   "metadata": {},
   "source": [
    "So far we were recommending using only one feature i.e. **headline** but in order to make a **robust** recommender system we need to consider **multiple** features at a time. Based on the business interest and rules, we can decide weight for each feature.\n",
    "\n",
    "Let's see different models with combinations of different features for article similarity."
   ]
  },
  {
   "cell_type": "markdown",
   "metadata": {},
   "source": [
    "### 6.d Weighted similarity based on headline and category"
   ]
  },
  {
   "cell_type": "markdown",
   "metadata": {},
   "source": [
    "Let's first see articles similarity based on **headline** and **category**. We are using **onehot encoding** to get feature representation for **category**.\n",
    "\n",
    "Sometimes as per the business requirements, we may need to give more preference to the articles from the same **category**. In such cases we can assign more weight to **category** while recommending. Higher the weight, more the significance. Similarly less weight leads to less signficance to a particular feature.\n"
   ]
  },
  {
   "cell_type": "code",
   "execution_count": null,
   "metadata": {
    "execution": {
     "iopub.execute_input": "2022-10-11T11:04:19.267674Z",
     "iopub.status.busy": "2022-10-11T11:04:19.26736Z",
     "iopub.status.idle": "2022-10-11T11:04:19.273322Z",
     "shell.execute_reply": "2022-10-11T11:04:19.272188Z",
     "shell.execute_reply.started": "2022-10-11T11:04:19.267616Z"
    }
   },
   "outputs": [],
   "source": [
    "from sklearn.preprocessing import OneHotEncoder "
   ]
  },
  {
   "cell_type": "code",
   "execution_count": null,
   "metadata": {
    "execution": {
     "iopub.execute_input": "2022-10-11T11:04:19.275691Z",
     "iopub.status.busy": "2022-10-11T11:04:19.27534Z",
     "iopub.status.idle": "2022-10-11T11:04:19.294757Z",
     "shell.execute_reply": "2022-10-11T11:04:19.29338Z",
     "shell.execute_reply.started": "2022-10-11T11:04:19.275631Z"
    }
   },
   "outputs": [],
   "source": [
    "category_onehot_encoded = OneHotEncoder().fit_transform(np.array(news_articles_temp[\"category\"]).reshape(-1,1))"
   ]
  },
  {
   "cell_type": "code",
   "execution_count": null,
   "metadata": {
    "execution": {
     "iopub.execute_input": "2022-10-11T11:04:19.29766Z",
     "iopub.status.busy": "2022-10-11T11:04:19.297144Z",
     "iopub.status.idle": "2022-10-11T11:04:19.352765Z",
     "shell.execute_reply": "2022-10-11T11:04:19.351077Z",
     "shell.execute_reply.started": "2022-10-11T11:04:19.297587Z"
    }
   },
   "outputs": [],
   "source": [
    "def avg_w2v_with_category(row_index, num_similar_items, w1,w2): #headline_preference = True, category_preference = False):\n",
    "    w2v_dist  = pairwise_distances(w2v_headline, w2v_headline[row_index].reshape(1,-1))\n",
    "    category_dist = pairwise_distances(category_onehot_encoded, category_onehot_encoded[row_index]) + 1\n",
    "    weighted_couple_dist   = (w1 * w2v_dist +  w2 * category_dist)/float(w1 + w2)\n",
    "    indices = np.argsort(weighted_couple_dist.flatten())[0:num_similar_items].tolist()\n",
    "    df = pd.DataFrame({'publish_date': news_articles['date'][indices].values,\n",
    "               'headline':news_articles['headline'][indices].values,\n",
    "                'Weighted Euclidean similarity with the queried article': weighted_couple_dist[indices].ravel(),\n",
    "                'Word2Vec based Euclidean similarity': w2v_dist[indices].ravel(),\n",
    "                 'Category based Euclidean similarity': category_dist[indices].ravel(),\n",
    "                'Categoty': news_articles['category'][indices].values})\n",
    "    \n",
    "    print(\"=\"*30,\"Queried article details\",\"=\"*30)\n",
    "    print('headline : ',news_articles['headline'][indices[0]])\n",
    "    print('Categoty : ', news_articles['category'][indices[0]])\n",
    "    print(\"\\n\",\"=\"*25,\"Recommended articles : \",\"=\"*23)\n",
    "    #return df.iloc[1:,[1,5]]\n",
    "    return df.iloc[1:, ]\n",
    "\n",
    "avg_w2v_with_category(528,10,0.1,0.8)"
   ]
  },
  {
   "cell_type": "markdown",
   "metadata": {},
   "source": [
    "Above function takes two extra arguments **w1** and **w2** for weights corresponding to **headline** and **category**. It is always a good practice to pass the **weights** in a range scaled from **0 to 1**, where a value close to 1 indicates high weight whereas close to 0 indicates less weight.  \n",
    "\n",
    "Here, we can observe that the recommended articles are from the same **category** as the queried article **category**. This is due to passing of high value to **w2**."
   ]
  },
  {
   "cell_type": "markdown",
   "metadata": {},
   "source": [
    "### 6.e Weighted similarity based on headline, category and author"
   ]
  },
  {
   "cell_type": "markdown",
   "metadata": {},
   "source": [
    "Now let's see calcualte articles similarity based on **author** along with **headline** and **category**. Again, we are encoding **author** through **onehot encoding**."
   ]
  },
  {
   "cell_type": "code",
   "execution_count": null,
   "metadata": {
    "execution": {
     "iopub.execute_input": "2022-10-11T11:04:19.355073Z",
     "iopub.status.busy": "2022-10-11T11:04:19.354648Z",
     "iopub.status.idle": "2022-10-11T11:04:19.374235Z",
     "shell.execute_reply": "2022-10-11T11:04:19.372158Z",
     "shell.execute_reply.started": "2022-10-11T11:04:19.355004Z"
    }
   },
   "outputs": [],
   "source": [
    "authors_onehot_encoded = OneHotEncoder().fit_transform(np.array(news_articles_temp[\"authors\"]).reshape(-1,1))"
   ]
  },
  {
   "cell_type": "code",
   "execution_count": null,
   "metadata": {
    "execution": {
     "iopub.execute_input": "2022-10-11T11:04:19.376731Z",
     "iopub.status.busy": "2022-10-11T11:04:19.376331Z",
     "iopub.status.idle": "2022-10-11T11:04:19.433579Z",
     "shell.execute_reply": "2022-10-11T11:04:19.432597Z",
     "shell.execute_reply.started": "2022-10-11T11:04:19.376664Z"
    }
   },
   "outputs": [],
   "source": [
    "def avg_w2v_with_category_and_authors(row_index, num_similar_items, w1,w2,w3): #headline_preference = True, category_preference = False):\n",
    "    w2v_dist  = pairwise_distances(w2v_headline, w2v_headline[row_index].reshape(1,-1))\n",
    "    category_dist = pairwise_distances(category_onehot_encoded, category_onehot_encoded[row_index]) + 1\n",
    "    authors_dist = pairwise_distances(authors_onehot_encoded, authors_onehot_encoded[row_index]) + 1\n",
    "    weighted_couple_dist   = (w1 * w2v_dist +  w2 * category_dist + w3 * authors_dist)/float(w1 + w2 + w3)\n",
    "    indices = np.argsort(weighted_couple_dist.flatten())[0:num_similar_items].tolist()\n",
    "    df = pd.DataFrame({'publish_date': news_articles['date'][indices].values,\n",
    "                'headline':news_articles['headline'][indices].values,\n",
    "                'Weighted Euclidean similarity with the queried article': weighted_couple_dist[indices].ravel(),\n",
    "                'Word2Vec based Euclidean similarity': w2v_dist[indices].ravel(),\n",
    "                'Category based Euclidean similarity': category_dist[indices].ravel(),\n",
    "                'Authors based Euclidean similarity': authors_dist[indices].ravel(),       \n",
    "                'Categoty': news_articles['category'][indices].values,\n",
    "                'Authors': news_articles['authors'][indices].values})\n",
    "    print(\"=\"*30,\"Queried article details\",\"=\"*30)\n",
    "    print('headline : ',news_articles['headline'][indices[0]])\n",
    "    print('Categoty : ', news_articles['category'][indices[0]])\n",
    "    print('Authors : ', news_articles['authors'][indices[0]])\n",
    "    print(\"\\n\",\"=\"*25,\"Recommended articles : \",\"=\"*23)\n",
    "    #return df.iloc[1:,[1,6,7]]\n",
    "    return df.iloc[1:, ]\n",
    "\n",
    "\n",
    "avg_w2v_with_category_and_authors(528,10,0.1,0.1,1)"
   ]
  },
  {
   "cell_type": "markdown",
   "metadata": {},
   "source": [
    "Above function takes one extra weight argument **w3** for **author**.\n",
    "\n",
    "In the ouput, we can observe that the recommended articles are from the same **author** as the queried article **author** due to high weightage to **w3**."
   ]
  },
  {
   "cell_type": "markdown",
   "metadata": {},
   "source": [
    "### 6.f Weighted similarity based on headline, category, author and publishing day "
   ]
  },
  {
   "cell_type": "markdown",
   "metadata": {},
   "source": [
    "Now let's see calcualte articles similarity based on the publishing **week day** **author** along with **headline**, **category** and **author**. Again, we are encoding this new feature through **onehot encoding**."
   ]
  },
  {
   "cell_type": "code",
   "execution_count": null,
   "metadata": {
    "execution": {
     "iopub.execute_input": "2022-10-11T11:04:19.436142Z",
     "iopub.status.busy": "2022-10-11T11:04:19.435685Z",
     "iopub.status.idle": "2022-10-11T11:04:19.448417Z",
     "shell.execute_reply": "2022-10-11T11:04:19.447193Z",
     "shell.execute_reply.started": "2022-10-11T11:04:19.436066Z"
    }
   },
   "outputs": [],
   "source": [
    "publishingday_onehot_encoded = OneHotEncoder().fit_transform(np.array(news_articles_temp[\"day and month\"]).reshape(-1,1))"
   ]
  },
  {
   "cell_type": "code",
   "execution_count": null,
   "metadata": {
    "execution": {
     "iopub.execute_input": "2022-10-11T11:04:19.450627Z",
     "iopub.status.busy": "2022-10-11T11:04:19.450241Z",
     "iopub.status.idle": "2022-10-11T11:04:19.511539Z",
     "shell.execute_reply": "2022-10-11T11:04:19.510121Z",
     "shell.execute_reply.started": "2022-10-11T11:04:19.450561Z"
    }
   },
   "outputs": [],
   "source": [
    "def avg_w2v_with_category_authors_and_publshing_day(row_index, num_similar_items, w1,w2,w3,w4): #headline_preference = True, category_preference = False):\n",
    "    w2v_dist  = pairwise_distances(w2v_headline, w2v_headline[row_index].reshape(1,-1))\n",
    "    category_dist = pairwise_distances(category_onehot_encoded, category_onehot_encoded[row_index]) + 1\n",
    "    authors_dist = pairwise_distances(authors_onehot_encoded, authors_onehot_encoded[row_index]) + 1\n",
    "    publishingday_dist = pairwise_distances(publishingday_onehot_encoded, publishingday_onehot_encoded[row_index]) + 1\n",
    "    weighted_couple_dist   = (w1 * w2v_dist +  w2 * category_dist + w3 * authors_dist + w4 * publishingday_dist)/float(w1 + w2 + w3 + w4)\n",
    "    indices = np.argsort(weighted_couple_dist.flatten())[0:num_similar_items].tolist()\n",
    "    df = pd.DataFrame({'publish_date': news_articles['date'][indices].values,\n",
    "                'headline_text':news_articles['headline'][indices].values,\n",
    "                'Weighted Euclidean similarity with the queried article': weighted_couple_dist[indices].ravel(),\n",
    "                'Word2Vec based Euclidean similarity': w2v_dist[indices].ravel(),\n",
    "                'Category based Euclidean similarity': category_dist[indices].ravel(),\n",
    "                'Authors based Euclidean similarity': authors_dist[indices].ravel(),   \n",
    "                'Publishing day based Euclidean similarity': publishingday_dist[indices].ravel(), \n",
    "                'Categoty': news_articles['category'][indices].values,\n",
    "                'Authors': news_articles['authors'][indices].values,\n",
    "                'Day and month': news_articles['day and month'][indices].values})\n",
    "    print(\"=\"*30,\"Queried article details\",\"=\"*30)\n",
    "    print('headline : ',news_articles['headline'][indices[0]])\n",
    "    print('Categoty : ', news_articles['category'][indices[0]])\n",
    "    print('Authors : ', news_articles['authors'][indices[0]])\n",
    "    print('Day and month : ', news_articles['day and month'][indices[0]])\n",
    "    print(\"\\n\",\"=\"*25,\"Recommended articles : \",\"=\"*23)\n",
    "    #return df.iloc[1:,[1,7,8,9]]\n",
    "    return df.iloc[1:, ]\n",
    "\n",
    "\n",
    "avg_w2v_with_category_authors_and_publshing_day(528,10,0.1,0.1,0.1,1)"
   ]
  },
  {
   "cell_type": "markdown",
   "metadata": {},
   "source": [
    "Above function takes one extra weight argument **w4** for **day of the week and month**.\n",
    "\n",
    "In the ouput, we can observe that the recommended articles are from the same **day of the week and month** as the queried article due to high weightage to **w4**."
   ]
  }
 ],
 "metadata": {
  "kernelspec": {
   "display_name": "Python 3 (ipykernel)",
   "language": "python",
   "name": "python3"
  },
  "language_info": {
   "codemirror_mode": {
    "name": "ipython",
    "version": 3
   },
   "file_extension": ".py",
   "mimetype": "text/x-python",
   "name": "python",
   "nbconvert_exporter": "python",
   "pygments_lexer": "ipython3",
   "version": "3.10.9"
  }
 },
 "nbformat": 4,
 "nbformat_minor": 4
}
